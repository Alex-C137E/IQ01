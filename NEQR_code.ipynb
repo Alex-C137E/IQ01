{
  "nbformat": 4,
  "nbformat_minor": 0,
  "metadata": {
    "colab": {
      "name": "NEQR code.ipynb",
      "provenance": [],
      "collapsed_sections": []
    },
    "kernelspec": {
      "name": "python3",
      "display_name": "Python 3"
    },
    "language_info": {
      "name": "python"
    }
  },
  "cells": [
    {
      "cell_type": "code",
      "execution_count": null,
      "metadata": {
        "id": "ds1Lzyb_VrjJ"
      },
      "outputs": [],
      "source": [
        "import qiskit\n",
        "\n",
        "from qiskit import QuantumCircuit, ClassicalRegister, QuantumRegister\n",
        "from qiskit import execute\n",
        "from qiskit import Aer\n",
        "from qiskit import IBMQ\n",
        "from qiskit.compiler import transpile\n",
        "from time import perf_counter\n",
        "from qiskit.tools.visualization import plot_histogram\n",
        "\n",
        "import numpy as np\n",
        "import math"
      ]
    },
    {
      "cell_type": "code",
      "source": [
        "#We admit the picture is square. Can easily be generalized.\n",
        "def convert_to_bits (picture):\n",
        "    n = len(picture)\n",
        "    ret = []\n",
        "    for i in range(n):\n",
        "        for j in range(n):\n",
        "            value = picture[i][j]\n",
        "            bitstring = bin(value)[2:]\n",
        "            ret.append([0 for i in range(8 - len(bitstring))] + [1 if c=='1' else 0 for c in bitstring])\n",
        "    return ret\n",
        "\n",
        "def neqr(bitStr, quantumImage, idx, intensity): \n",
        "    newBitStr = bitStr\n",
        "\n",
        "    numOfQubits = quantumImage.num_qubits\n",
        "\n",
        "    quantumImage.draw()\n",
        "    print(\"Number of Qubits:\", numOfQubits)\n",
        "\n",
        "    #Start the quantum circuit draw\n",
        "    lengthIntensity = intensity.size\n",
        "    lengthIdx = idx.size\n",
        "\n",
        "    quantumImage.i([intensity[lengthIntensity-1-i] for i in range(lengthIntensity)])\n",
        "    quantumImage.h([idx[lengthIdx-1-i] for i in range(lengthIdx)])\n",
        "\n",
        "    numOfPixels = len(newBitStr)\n",
        "\n",
        "    for i in range(numOfPixels):\n",
        "        bin_ind = bin(i)[2:]\n",
        "        bin_ind = (lengthIdx - len(bin_ind)) * '0' + bin_ind\n",
        "        bin_ind = bin_ind[::-1]\n",
        "\n",
        "        for j in range(len(bin_ind)): # New gate applied \n",
        "            if bin_ind[j] == '0':\n",
        "                quantumImage.x(idx[j])\n",
        "\n",
        "          \n",
        "        for j in range(len(newBitStr[i])): #  CCNOT gate\n",
        "            if newBitStr[i][j] == 1:\n",
        "                quantumImage.mcx(idx, intensity[lengthIntensity-1-j])\n",
        "        \n",
        "        # X-gate (enabling zero-controlled nature)\n",
        "        for j in range(len(bin_ind)):\n",
        "            if bin_ind[j] == '0':\n",
        "                quantumImage.x(idx[j])\n",
        "\n",
        "        quantumImage.barrier()"
      ],
      "metadata": {
        "id": "Nll0DRtzWPhG"
      },
      "execution_count": null,
      "outputs": []
    }
  ]
}